{
 "cells": [
  {
   "cell_type": "code",
   "execution_count": 2,
   "id": "51ded61a-4a69-4f69-8afe-9bee5aff431d",
   "metadata": {},
   "outputs": [],
   "source": [
    "import numpy as np\n",
    "import prophet as Prophet"
   ]
  },
  {
   "cell_type": "code",
   "execution_count": null,
   "id": "87c60451-fdfc-4212-8bce-57f34553f50b",
   "metadata": {},
   "outputs": [],
   "source": []
  }
 ],
 "metadata": {
  "kernelspec": {
   "display_name": "Python 3 (ipykernel)",
   "language": "python",
   "name": "python3"
  },
  "language_info": {
   "codemirror_mode": {
    "name": "ipython",
    "version": 3
   },
   "file_extension": ".py",
   "mimetype": "text/x-python",
   "name": "python",
   "nbconvert_exporter": "python",
   "pygments_lexer": "ipython3",
   "version": "3.12.4"
  }
 },
 "nbformat": 4,
 "nbformat_minor": 5
}
